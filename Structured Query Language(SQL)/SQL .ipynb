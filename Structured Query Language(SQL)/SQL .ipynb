{
 "cells": [
  {
   "cell_type": "markdown",
   "id": "b9459f0c",
   "metadata": {},
   "source": [
    "Update SQL Table\n",
    "A given data of 12 Employees working in an investment firm. So add the Employee Data in Employee SQLite Database of Employee_Detail Table which was created by you.\n",
    "Alt Text\n",
    "\n",
    "Print 'Done' when you have completed the task.\n",
    "Note:Save the SQLIte Database in your local system.As it will be used in future question.\n",
    "Output Format\n",
    "Done"
   ]
  },
  {
   "cell_type": "code",
   "execution_count": 1,
   "id": "2a5ab716",
   "metadata": {},
   "outputs": [
    {
     "name": "stdout",
     "output_type": "stream",
     "text": [
      "Done\n"
     ]
    }
   ],
   "source": [
    "## Open and read data file as specified in the question\n",
    "## Print the required output in given format\n",
    "employee_id=[101,102,103,104,105,106,107,108,109,110,111,112]\n",
    "name=['Aadarsh','Aarti','Siddharth','Aman','Amit','Shivansh','Vaibhav','Himanshu','Raman','Kunal','Adhira','Tanya']\n",
    "age=[25,27,25,24,30,26,23,26,25,26,29,24]\n",
    "department=['Marketing','Operations','Finance','Human Resource','Marketing','IT','Finance','IT','Operations','Marketing','Human Resource','Marketing']\n",
    "salary=[50000,60000,85000,75000,50000,90000,85000,90000,60000,50000,75000,50000]\n",
    "\n",
    "\n",
    "import sqlite3\n",
    "db = sqlite3.connect('Employee.sqlite')\n",
    "cur = db.cursor()\n",
    "cur.execute('CREATE TABLE Employee_Detail (employeeid int primary key, name text , age int ,department text,salary int)')\n",
    "db.commit()\n",
    "for i in range(len(employee_id)):\n",
    "    cur.execute('INSERT INTO Employee_Detail values(?,?,?,?,?)',(employee_id[i],name[i],age[i],department[i],salary[i]))\n",
    "    db.commit()\n",
    "    \n",
    "else:\n",
    "    print('Done')"
   ]
  },
  {
   "cell_type": "code",
   "execution_count": null,
   "id": "4513b44a",
   "metadata": {},
   "outputs": [],
   "source": [
    "Finance Employee SQLite\n",
    "Find the employee_id of employee whose is working in Finance Department in Investment firm from Employee SQLite Database.\n",
    "Print the employee_id as integer value\n",
    "Output Format:\n",
    "employee_id_1\n",
    "employee_id_2"
   ]
  },
  {
   "cell_type": "code",
   "execution_count": null,
   "id": "2e38b334",
   "metadata": {},
   "outputs": [],
   "source": [
    "employee_id=[101,102,103,104,105,106,107,108,109,110,111,112]\n",
    "name=['Aadarsh','Aarti','Siddharth','Aman','Amit','Shivansh','Vaibhav','Himanshu','Raman','Kunal','Adhira','Tanya']\n",
    "age=[25,27,25,24,30,26,23,26,25,26,29,24]\n",
    "department=['Marketing','Operations','Finance','Human Resource','Marketing','IT','Finance','IT','Operations','Marketing','Human Resource','Marketing']\n",
    "salary=[50000,60000,85000,75000,50000,90000,85000,90000,60000,50000,75000,50000]\n",
    "\n",
    "import sqlite3\n",
    "db = sqlite3.connect('Employee.sqlite')\n",
    "cur = db.cursor()\n",
    "cur.execute('CREATE TABLE Employee_Detail (employeeid int primary key, name text , age int ,department text,salary int)')\n",
    "db.commit()\n",
    "for i in range(len(employee_id)):\n",
    "    cur.execute('INSERT INTO Employee_Detail values(?,?,?,?,?)',(employee_id[i],name[i],age[i],department[i],salary[i]))\n",
    "    db.commit()\n",
    "    \n",
    "else:\n",
    "    print('Done')\n",
    "    \n",
    "cur.execute(\"SELECT employeeid FROM Employee_Detail WHERE department=='Finance'\")\n",
    "result = cur.fetchall()\n",
    "for i in result:\n",
    "    print(i[0])"
   ]
  },
  {
   "cell_type": "markdown",
   "id": "f2bb1974",
   "metadata": {},
   "source": [
    "Find Employee\n",
    "Find the number of employee working in different department in an investment firm from Employee SQLite Database.\n",
    "Print the department and number of employee\n",
    "Output Format:\n",
    "department_1 num_employee_1\n",
    "department_2 num_employee_2\n",
    "department_3 num_employee_3"
   ]
  },
  {
   "cell_type": "code",
   "execution_count": null,
   "id": "d0793d5c",
   "metadata": {},
   "outputs": [],
   "source": [
    "employee_id=[101,102,103,104,105,106,107,108,109,110,111,112]\n",
    "name=['Aadarsh','Aarti','Siddharth','Aman','Amit','Shivansh','Vaibhav','Himanshu','Raman','Kunal','Adhira','Tanya']\n",
    "age=[25,27,25,24,30,26,23,26,25,26,29,24]\n",
    "department=['Marketing','Operations','Finance','Human Resource','Marketing','IT','Finance','IT','Operations','Marketing','Human Resource','Marketing']\n",
    "salary=[50000,60000,85000,75000,50000,90000,85000,90000,60000,50000,75000,50000]\n",
    "\n",
    "import sqlite3\n",
    "db = sqlite3.connect('Employee.sqlite')\n",
    "cur = db.cursor()\n",
    "cur.execute('CREATE TABLE Employee_Detail (employeeid int primary key, name text , age int ,department text,salary int)')\n",
    "db.commit()\n",
    "for i in range(len(employee_id)):\n",
    "    cur.execute('INSERT INTO Employee_Detail values(?,?,?,?,?)',(employee_id[i],name[i],age[i],department[i],salary[i]))\n",
    "    db.commit()\n",
    "    \n",
    "cur.execute(\"SELECT department,count(employeeid) FROM Employee_Detail group by department\")\n",
    "result = cur.fetchall()\n",
    "\n",
    "for i in result:\n",
    "    print(i[0],i[1])"
   ]
  },
  {
   "cell_type": "markdown",
   "id": "f535fb00",
   "metadata": {},
   "source": [
    "Count Genre\n",
    "IMDB.sqlite' database contains all details of movies and has three tables with name IMDB, genre and earning.\n",
    "Find the count of each genre present in IMDB movie dataset?\n",
    "Print the Genre and number of movies present in that genre.\n",
    "Note: Ignore the empty value present in genre.\n",
    "Output Format:\n",
    "genre_1 num_movie_1\n",
    "genre_2 num_movie_2\n",
    ". . .   "
   ]
  },
  {
   "cell_type": "code",
   "execution_count": null,
   "id": "4cf98c24",
   "metadata": {},
   "outputs": [],
   "source": [
    "import pandas as pd \n",
    "import sqlite3\n",
    "\n",
    "db = sqlite3.connect('IMDB.sqlite')\n",
    "df  = pd.read_sql_query('select * from genre',db)\n",
    "df = df[df['genre']!='']\n",
    "data = df.groupby('genre').size()\n",
    "data = data.to_dict()\n",
    "\n",
    "for i, j in data.items():\n",
    "    print(i,j)"
   ]
  }
 ],
 "metadata": {
  "kernelspec": {
   "display_name": "Python 3 (ipykernel)",
   "language": "python",
   "name": "python3"
  },
  "language_info": {
   "codemirror_mode": {
    "name": "ipython",
    "version": 3
   },
   "file_extension": ".py",
   "mimetype": "text/x-python",
   "name": "python",
   "nbconvert_exporter": "python",
   "pygments_lexer": "ipython3",
   "version": "3.9.12"
  }
 },
 "nbformat": 4,
 "nbformat_minor": 5
}
