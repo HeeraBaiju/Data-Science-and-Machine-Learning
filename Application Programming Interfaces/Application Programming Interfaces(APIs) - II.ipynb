{
 "cells": [
  {
   "cell_type": "markdown",
   "id": "5e2c72e3",
   "metadata": {},
   "source": [
    "Github License\n",
    "Fetch the license used in ‘google/go-cloud’ Github repository from Github API using basic auth i.e by passing username and password\n",
    "Print the license name.\n",
    "Note:Read the Github API documentation carefully.\n",
    "Output Format:\n",
    "license_name"
   ]
  },
  {
   "cell_type": "code",
   "execution_count": 1,
   "id": "2d382c5e",
   "metadata": {},
   "outputs": [
    {
     "name": "stdout",
     "output_type": "stream",
     "text": [
      "Apache License 2.0\n"
     ]
    }
   ],
   "source": [
    "import requests\n",
    "data = requests.get('https://api.github.com/repos/google/go-cloud',auth = ('Id','password'))\n",
    "print(data.json()['license']['name'])"
   ]
  },
  {
   "cell_type": "markdown",
   "id": "6bbd2659",
   "metadata": {},
   "source": [
    "All Topics\n",
    "Fetch the list of topics that are present in ‘google/clusterfuzz’ Github repository from Github API using basic auth i.e by passing username and password.\n",
    "Print the topic names\n",
    "Please refer this file for new changes in github: Document\n",
    "Note:Read the Github API documentation carefully.\n",
    "Output Format:\n",
    "topic_name1\n",
    "topic_name2\n",
    ". . .\n",
    ". . .\n",
    ". . .ipynb_checkpoints/"
   ]
  },
  {
   "cell_type": "code",
   "execution_count": 2,
   "id": "8435b5ad",
   "metadata": {},
   "outputs": [
    {
     "name": "stdout",
     "output_type": "stream",
     "text": [
      "fuzzing\n",
      "security\n",
      "stability\n",
      "vulnerabilities\n"
     ]
    }
   ],
   "source": [
    "## Open and read data file as specified in the question\n",
    "## Print the required output in given format\n",
    "import requests\n",
    "data = requests.get('https://api.github.com/repos/google/clusterfuzz',auth = ('ID','password'))\n",
    "topics=data.json()['topics']\n",
    "for i in topics:\n",
    "    print(i)"
   ]
  },
  {
   "cell_type": "markdown",
   "id": "3e4f5872",
   "metadata": {},
   "source": [
    "Github Languages\n",
    "Fetch the list of languages used in ‘google/science-journal-ios’ Github repository from Github API using basic auth i.e by passing username and password.\n",
    "Print the language name.\n",
    "Note:Read the Github API documentation carefully.\n",
    "Output Format:\n",
    "language_name1\n",
    "language_name2\n",
    ". . .\n",
    ". . .\n",
    ". . .ipynb_checkpoints/"
   ]
  },
  {
   "cell_type": "code",
   "execution_count": 3,
   "id": "04e994d8",
   "metadata": {},
   "outputs": [
    {
     "name": "stdout",
     "output_type": "stream",
     "text": [
      "Swift\n",
      "HTML\n",
      "Python\n",
      "Ruby\n",
      "Shell\n"
     ]
    }
   ],
   "source": [
    "import requests\n",
    "data = requests.get('https://api.github.com/repos/google/science-journal-ios/languages',auth = ('ID','password'))\n",
    "data = data.json()\n",
    "for i,j in data.items():\n",
    "    print(i)"
   ]
  },
  {
   "cell_type": "markdown",
   "id": "6f9e2db1",
   "metadata": {},
   "source": [
    "github organisation repo\n",
    "Fetch the all repositories(except Forked repository) of organisation ‘CodingNinjasCodes’ from Github API using OAuth(access token)\n",
    "Print the name of repository with its watch count and fork count.\n",
    "Please refer this file for new changes in github: Document\n",
    "Output Format:\n",
    "repo_name1 watch_count1 fork_count1\n",
    "repo_name2 watch_count2 fork_count2\n",
    ". . .\n",
    ". . ."
   ]
  },
  {
   "cell_type": "code",
   "execution_count": 4,
   "id": "560219e1",
   "metadata": {},
   "outputs": [
    {
     "name": "stdout",
     "output_type": "stream",
     "text": [
      "https://github.com/login?client_id=e98d930130229e5f3175&return_to=%2Flogin%2Foauth%2Fauthorize%3Fclient_id%3De98d930130229e5f3175%26redirect_uri%3Dhttps%253A%252F%252Fwww.google.com%252F\n"
     ]
    }
   ],
   "source": [
    "import requests\n",
    "# https://www.google.com/\n",
    "\n",
    "h={'client_id':'e98d930130229e5f3175','redirect_uri':'https://www.google.com/'}\n",
    "\n",
    "d=requests.get('https://github.com/login/oauth/authorize',params=h)\n",
    "print(d.url)"
   ]
  },
  {
   "cell_type": "code",
   "execution_count": 5,
   "id": "8aedd1ca",
   "metadata": {},
   "outputs": [
    {
     "name": "stdout",
     "output_type": "stream",
     "text": [
      "error=bad_verification_code&error_description=The+code+passed+is+incorrect+or+expired.&error_uri=https%3A%2F%2Fdocs.github.com%2Fapps%2Fmanaging-oauth-apps%2Ftroubleshooting-oauth-app-access-token-request-errors%2F%23bad-verification-code\n"
     ]
    }
   ],
   "source": [
    "# https://www.google.com/?code=670556d6cf58a21bfe8a\n",
    "h={'client_id':'e98d930130229e5f3175',\n",
    "   'client_secret':'b132db7eb4983c02941c6aaf91cfdc2e70d3ee78',\n",
    "   'code':'670556d6cf58a21bfe8a',\n",
    "   'redirect_uri':'https://www.google.com/','state':'random_123'}\n",
    "data=requests.post('https://github.com/login/oauth/access_token',data=h)\n",
    "print(data.text)"
   ]
  }
 ],
 "metadata": {
  "kernelspec": {
   "display_name": "Python 3 (ipykernel)",
   "language": "python",
   "name": "python3"
  },
  "language_info": {
   "codemirror_mode": {
    "name": "ipython",
    "version": 3
   },
   "file_extension": ".py",
   "mimetype": "text/x-python",
   "name": "python",
   "nbconvert_exporter": "python",
   "pygments_lexer": "ipython3",
   "version": "3.9.12"
  }
 },
 "nbformat": 4,
 "nbformat_minor": 5
}
